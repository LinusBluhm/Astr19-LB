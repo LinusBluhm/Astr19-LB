{
 "cells": [
  {
   "cell_type": "markdown",
   "id": "2ba09f3a-f5bb-4ed9-a714-70851aa35ab3",
   "metadata": {},
   "source": [
    "Create a Jupyter notebook, import matplotlib. Use numpy to pull 1000 random numbers distributed uniformly between [0,1]. Histogram the random numbers into 100 bins, and plot the histogram. Label your axes and save the figure as a PDF."
   ]
  },
  {
   "cell_type": "code",
   "execution_count": null,
   "id": "85e1a1e8-a4d9-48e5-a684-64f634d35bdf",
   "metadata": {},
   "outputs": [],
   "source": [
    "import numpy as np\n",
    "import matplotlib.pyplot as plt\n",
    "%matplotlib inline"
   ]
  },
  {
   "cell_type": "code",
   "execution_count": null,
   "id": "9df0b348-e491-4859-bdcd-ae91315b6a83",
   "metadata": {},
   "outputs": [],
   "source": [
    "#pull 1000 random numbers evenly distrubited\n",
    "n = 1000\n",
    "x = np.random.random(n)\n",
    "\n",
    "# create 100 bins\n",
    "width = 0.01\n",
    "histmin = np.floor(min(x)) #np.floor rounds down to an integer\n",
    "histmax = np.ceil(max(x)) #np.ceil rounds up to an integer\n",
    "\n",
    "bins = np.arange(histmin, histmax, width)\n",
    "\n",
    "# plot histogram\n",
    "plt.hist(x, bins=bins, alpha=0.8, edgecolor=\"navy\")\n",
    "plt.xlabel('X')\n",
    "plt.ylabel(\"N per bin\")\n",
    "plt.savefig(\"HistyFit.pdf\", bbox_inches='tight', dpi=100)"
   ]
  },
  {
   "cell_type": "code",
   "execution_count": null,
   "id": "7f583c9e-ff00-4561-b15b-3d49e32039fa",
   "metadata": {},
   "outputs": [],
   "source": []
  }
 ],
 "metadata": {
  "kernelspec": {
   "display_name": "Python 3 (ipykernel)",
   "language": "python",
   "name": "python3"
  },
  "language_info": {
   "codemirror_mode": {
    "name": "ipython",
    "version": 3
   },
   "file_extension": ".py",
   "mimetype": "text/x-python",
   "name": "python",
   "nbconvert_exporter": "python",
   "pygments_lexer": "ipython3",
   "version": "3.12.1"
  }
 },
 "nbformat": 4,
 "nbformat_minor": 5
}

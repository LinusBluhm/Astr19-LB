{
 "cells": [
  {
   "cell_type": "markdown",
   "id": "13f2f431-557a-45fb-a10a-340d16f993ff",
   "metadata": {},
   "source": [
    "Create a Jupyter notebook, import matplotlib. Write cells that 1) create an array x ranging from [0,1] in 100 steps and 2) that defines a function that returns exp(x).  In a new cell use the function to set y=exp(x), and then plot x vs. y. Label the x-axis as “Time [milliseconds]” and the y-axis as “Awesomeness”. Save the figure as a PDF.  "
   ]
  },
  {
   "cell_type": "code",
   "execution_count": null,
   "id": "56d522e2-ed8d-4184-8899-f9efc1ecba83",
   "metadata": {},
   "outputs": [],
   "source": [
    "import matplotlib.pyplot as plt\n",
    "import numpy as np\n",
    "%matplotlib inline"
   ]
  },
  {
   "cell_type": "code",
   "execution_count": null,
   "id": "7723e8d2-05cc-44c4-931a-ff30ba21cb28",
   "metadata": {},
   "outputs": [],
   "source": [
    "n = 100\n",
    "x = np.linspace(0, 1, n)\n",
    "\n",
    "def exponent(ar):\n",
    "    return np.exp(x)"
   ]
  },
  {
   "cell_type": "code",
   "execution_count": null,
   "id": "14a87f44-6da1-4829-a288-c69868f212a8",
   "metadata": {},
   "outputs": [],
   "source": [
    "y = exponent(x)\n",
    "plt.plot(x, y)\n",
    "plt.xlabel('Time [milliseconds]')\n",
    "plt.ylabel('Rad')\n",
    "plt.savefig(\"RadsOverTime.pdf\", bbox_inches='tight', dpi=100)"
   ]
  },
  {
   "cell_type": "code",
   "execution_count": null,
   "id": "93e99aa6-6293-429b-b0b0-47e51f050d9f",
   "metadata": {},
   "outputs": [],
   "source": []
  }
 ],
 "metadata": {
  "kernelspec": {
   "display_name": "Python 3 (ipykernel)",
   "language": "python",
   "name": "python3"
  },
  "language_info": {
   "codemirror_mode": {
    "name": "ipython",
    "version": 3
   },
   "file_extension": ".py",
   "mimetype": "text/x-python",
   "name": "python",
   "nbconvert_exporter": "python",
   "pygments_lexer": "ipython3",
   "version": "3.12.1"
  }
 },
 "nbformat": 4,
 "nbformat_minor": 5
}

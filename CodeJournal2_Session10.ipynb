{
 "cells": [
  {
   "cell_type": "markdown",
   "id": "bf4f8996-51d0-4d49-bb37-1c5caa18365b",
   "metadata": {},
   "source": [
    "Create a Jupyter notebook, import matplotlib. On the numpy website, read about the random number distributions available for pulling random variates.  Select your favorite distribution (other than uniform) and pull 1000 random numbers from that distribution. Histogram the random numbers into 100 bins, and plot the histogram. Label your axes and save the figure as a PDF."
   ]
  },
  {
   "cell_type": "code",
   "execution_count": null,
   "id": "5a9cd0e1-7ce8-4e53-a247-614c920fb900",
   "metadata": {},
   "outputs": [],
   "source": [
    "import matplotlib.pyplot as plt\n",
    "import numpy as np\n",
    "%matplotlib inline"
   ]
  },
  {
   "cell_type": "code",
   "execution_count": null,
   "id": "dfd4b0c1-74be-4aca-a3ad-0a75df64cd66",
   "metadata": {},
   "outputs": [],
   "source": [
    "n = 1000\n",
    "x = np.random.pareto(1, n)\n",
    "\n",
    "# create 100 bins\n",
    "width = 0.1\n",
    "histmin = 0\n",
    "histmax = 10\n",
    "\n",
    "bins = np.arange(histmin, histmax, width)\n",
    "\n",
    "plt.show()\n",
    "# plot histogram\n",
    "plt.hist(x, bins=bins, alpha=0.8, edgecolor=\"navy\")\n",
    "plt.xlabel('X up to 10')\n",
    "plt.ylabel(\"N per bin\")\n",
    "plt.savefig(\"HistyFit.pdf\", bbox_inches='tight', dpi=100)"
   ]
  }
 ],
 "metadata": {
  "kernelspec": {
   "display_name": "Python 3 (ipykernel)",
   "language": "python",
   "name": "python3"
  },
  "language_info": {
   "codemirror_mode": {
    "name": "ipython",
    "version": 3
   },
   "file_extension": ".py",
   "mimetype": "text/x-python",
   "name": "python",
   "nbconvert_exporter": "python",
   "pygments_lexer": "ipython3",
   "version": "3.12.1"
  }
 },
 "nbformat": 4,
 "nbformat_minor": 5
}

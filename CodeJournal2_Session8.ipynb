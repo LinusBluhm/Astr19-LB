{
 "cells": [
  {
   "cell_type": "markdown",
   "id": "439c4187-1818-43b0-9ab1-60b6d76cb5a7",
   "metadata": {},
   "source": [
    "Create a Jupyter notebook, import matplotlib. Write cells that 1) create an array x ranging from [0,1] in 100 steps and 2) that defines functions that return sin(x) and cos(x).  In a new cell use to create a multipanel plot (1 row, 2 columns), plotting sin(x) vs. x in the left panel and cos(x) vs. x in the right panel. Label the panels with sin(x) and cos(x), and save the figure as a PDF."
   ]
  },
  {
   "cell_type": "code",
   "execution_count": null,
   "id": "062d9257-0e55-4c55-810a-b91c6a68e335",
   "metadata": {},
   "outputs": [],
   "source": [
    "import matplotlib.pyplot as plt\n",
    "import numpy as np\n",
    "%matplotlib inline"
   ]
  },
  {
   "cell_type": "code",
   "execution_count": null,
   "id": "fa9c414d-55e6-496d-b007-f3450f03abe0",
   "metadata": {},
   "outputs": [],
   "source": [
    "n = 100\n",
    "x = np.linspace(0, 1, n)\n",
    "\n",
    "def sinefnc(theta):\n",
    "    return np.sin(theta)\n",
    "\n",
    "def cosinefnc(theta):\n",
    "    return np.cos(theta)"
   ]
  },
  {
   "cell_type": "code",
   "execution_count": null,
   "id": "0c0f5da8-a4d9-4b61-b6c5-087fa1a6c767",
   "metadata": {},
   "outputs": [],
   "source": [
    "figure,axes = plt.subplots(1, 2)\n",
    "\n",
    "axes[0].plot(x, sinefnc(x))\n",
    "axes[0].set_xlabel('sin(x)')\n",
    "\n",
    "axes[1].plot(x, cosinefnc(x))\n",
    "axes[1].set_xlabel('cos(x)')\n",
    "\n",
    "plt.savefig(\"sin&cos2panel.pdf\", bbox_inches='tight', dpi=100)"
   ]
  },
  {
   "cell_type": "code",
   "execution_count": null,
   "id": "0689a748-33a5-4f7f-aba9-5878a9c6ad5e",
   "metadata": {},
   "outputs": [],
   "source": []
  }
 ],
 "metadata": {
  "kernelspec": {
   "display_name": "Python 3 (ipykernel)",
   "language": "python",
   "name": "python3"
  },
  "language_info": {
   "codemirror_mode": {
    "name": "ipython",
    "version": 3
   },
   "file_extension": ".py",
   "mimetype": "text/x-python",
   "name": "python",
   "nbconvert_exporter": "python",
   "pygments_lexer": "ipython3",
   "version": "3.12.1"
  }
 },
 "nbformat": 4,
 "nbformat_minor": 5
}

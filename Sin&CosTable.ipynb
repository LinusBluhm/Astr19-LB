{
 "cells": [
  {
   "cell_type": "code",
   "execution_count": null,
   "id": "e62997b5-235a-43e5-b910-1f9ac4cff296",
   "metadata": {},
   "outputs": [],
   "source": [
    "import numpy as np\n",
    "from astropy.table import Table"
   ]
  },
  {
   "cell_type": "markdown",
   "id": "e475b4c4-8bd7-4f82-8ae2-038903beef7b",
   "metadata": {},
   "source": [
    "Next two cells define functions that take x and return sin(x) and cos(x), respectively"
   ]
  },
  {
   "cell_type": "code",
   "execution_count": null,
   "id": "9f042c7a-75a1-4d15-91e4-b6e0da47f4db",
   "metadata": {},
   "outputs": [],
   "source": [
    "def Sin(x):\n",
    "    return np.sin(x)"
   ]
  },
  {
   "cell_type": "code",
   "execution_count": null,
   "id": "d20af81f-aeb9-4e70-a6d0-8abd1bababd2",
   "metadata": {},
   "outputs": [],
   "source": [
    "def Cos(x):\n",
    "    return np.cos(x)"
   ]
  },
  {
   "cell_type": "markdown",
   "id": "62c12dc5-7546-4083-ae69-a6afbb24984b",
   "metadata": {},
   "source": [
    "Next cell creates x, then takes Sin and Cos of x, then creates a table for each of these values"
   ]
  },
  {
   "cell_type": "code",
   "execution_count": null,
   "id": "cbee5025-ce92-43c4-8197-6e8b9bd2d22c",
   "metadata": {},
   "outputs": [],
   "source": [
    "x = np.linspace(0, 2*np.pi, 1000)\n",
    "sinvals = Sin(x)\n",
    "cosvals = Cos(x)\n",
    "trig_table = Table()\n",
    "trig_table[\"x\"] = x\n",
    "trig_table[\"sin\"] = sinvals\n",
    "trig_table[\"cos\"] = cosvals\n",
    "\n",
    "trig_table[\"x\"].format = \"{:.4f}\"\n",
    "trig_table[\"sin\"].format = \"{:.4f}\"\n",
    "trig_table[\"cos\"].format = \"{:.4f}\"\n",
    "trig_table\n",
    "print(trig_table[:10])"
   ]
  },
  {
   "cell_type": "markdown",
   "id": "350311b5-acdd-4f22-9f5b-a6e2fa04b7d3",
   "metadata": {},
   "source": [
    "The cell below prints the first 10 rows of the table created above;\n",
    "I could get cleaner output with print(unset_table[:10]), as above, but the assignment specifically asked for a for loop"
   ]
  },
  {
   "cell_type": "code",
   "execution_count": null,
   "id": "7b1bb2a5-08b6-41a9-9c00-33aa99572f63",
   "metadata": {},
   "outputs": [],
   "source": [
    "for x in range(0, 10):\n",
    "    print(trig_table[x])"
   ]
  }
 ],
 "metadata": {
  "kernelspec": {
   "display_name": "Python 3 (ipykernel)",
   "language": "python",
   "name": "python3"
  },
  "language_info": {
   "codemirror_mode": {
    "name": "ipython",
    "version": 3
   },
   "file_extension": ".py",
   "mimetype": "text/x-python",
   "name": "python",
   "nbconvert_exporter": "python",
   "pygments_lexer": "ipython3",
   "version": "3.12.1"
  }
 },
 "nbformat": 4,
 "nbformat_minor": 5
}
